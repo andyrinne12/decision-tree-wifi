{
 "cells": [
  {
   "cell_type": "code",
   "execution_count": null,
   "metadata": {},
   "outputs": [],
   "source": [
    "import pandas as pd\n",
    "import utils\n",
    "from decision_tree import DecisionTree\n",
    "import model_eval\n",
    "import numpy as np\n",
    "import extra\n",
    "%load_ext autoreload\n",
    "%autoreload 2\n"
   ]
  },
  {
   "cell_type": "code",
   "execution_count": null,
   "metadata": {},
   "outputs": [],
   "source": [
    "clean_dataset = np.loadtxt(\"datasets/clean_dataset.txt\")\n",
    "noisy_dataset = np.loadtxt(\"datasets/noisy_dataset.txt\")"
   ]
  },
  {
   "cell_type": "code",
   "execution_count": null,
   "metadata": {},
   "outputs": [],
   "source": [
    "model = DecisionTree()"
   ]
  },
  {
   "cell_type": "code",
   "execution_count": null,
   "metadata": {},
   "outputs": [],
   "source": [
    "noisy_metrics = model_eval.get_metrics_cross_validation(noisy_dataset, model, 10)\n",
    "clean_metrics = model_eval.get_metrics_cross_validation(clean_dataset, model, 10)\n"
   ]
  },
  {
   "cell_type": "code",
   "execution_count": null,
   "metadata": {},
   "outputs": [],
   "source": [
    "extra.print_metrics(noisy_metrics)"
   ]
  },
  {
   "cell_type": "code",
   "execution_count": null,
   "metadata": {},
   "outputs": [],
   "source": [
    "extra.print_metrics(clean_metrics)"
   ]
  },
  {
   "cell_type": "code",
   "execution_count": null,
   "metadata": {},
   "outputs": [],
   "source": [
    "model.fit(training_set=clean_dataset)\n",
    "model_eval.evaluate(noisy_dataset, model)"
   ]
  },
  {
   "cell_type": "code",
   "execution_count": null,
   "metadata": {},
   "outputs": [],
   "source": [
    "model.fit(training_set=noisy_dataset)\n",
    "y_test = clean_dataset[:, -1]\n",
    "y_predict = model.predict(clean_dataset)\n",
    "extra.print_metrics(model_eval.get_metrics(y_test, y_predict))\n",
    "print(model.depth)\n",
    "print(str(model))\n"
   ]
  },
  {
   "cell_type": "code",
   "execution_count": null,
   "metadata": {},
   "outputs": [],
   "source": [
    "model.prune(noisy_dataset, clean_dataset)\n",
    "y_test = clean_dataset[:, -1]\n",
    "y_predict = model.predict(clean_dataset)\n",
    "extra.print_metrics(model_eval.get_metrics(y_test, y_predict))\n",
    "print(model.depth)\n",
    "print(str(model))\n"
   ]
  },
  {
   "cell_type": "code",
   "execution_count": null,
   "metadata": {},
   "outputs": [],
   "source": []
  },
  {
   "cell_type": "code",
   "execution_count": null,
   "metadata": {},
   "outputs": [],
   "source": []
  }
 ],
 "metadata": {
  "interpreter": {
   "hash": "916dbcbb3f70747c44a77c7bcd40155683ae19c65e1c03b4aa3499c5328201f1"
  },
  "kernelspec": {
   "display_name": "Python 3.8.10 64-bit",
   "name": "python3"
  },
  "language_info": {
   "codemirror_mode": {
    "name": "ipython",
    "version": 3
   },
   "file_extension": ".py",
   "mimetype": "text/x-python",
   "name": "python",
   "nbconvert_exporter": "python",
   "pygments_lexer": "ipython3",
   "version": "3.8.10"
  },
  "orig_nbformat": 4
 },
 "nbformat": 4,
 "nbformat_minor": 2
}
