{
 "cells": [
  {
   "cell_type": "code",
   "execution_count": null,
   "metadata": {},
   "outputs": [],
   "source": [
    "import numpy as np\n",
    "import matplotlib.pyplot as plt"
   ]
  },
  {
   "cell_type": "code",
   "execution_count": null,
   "metadata": {},
   "outputs": [],
   "source": [
    "clean_dataset = np.loadtxt(\"datasets/clean_dataset.txt\")\n",
    "noisy_dataset = np.loadtxt(\"datasets/noisy_dataset.txt\")"
   ]
  },
  {
   "cell_type": "code",
   "execution_count": null,
   "metadata": {},
   "outputs": [],
   "source": [
    "class Node:\n",
    "    def __init__(self, attribute, value, left, right, label = None):\n",
    "        self.attribute = attribute\n",
    "        self.value = value\n",
    "        self.left = left\n",
    "        self.right = right\n",
    "        self.label = label\n",
    "\n",
    "    def is_leaf(self):\n",
    "        return not self.left and not self.right"
   ]
  },
  {
   "cell_type": "code",
   "execution_count": null,
   "metadata": {},
   "outputs": [],
   "source": [
    "def entropy(dataset):\n",
    "    num = dataset.shape[0]\n",
    "    labels, label_counts = np.unique(dataset, return_counts=True)\n",
    "    probs = label_counts / num\n",
    "    entropy = -1 * np.sum(probs * np.log2(probs))\n",
    "    return entropy"
   ]
  },
  {
   "cell_type": "code",
   "execution_count": null,
   "metadata": {},
   "outputs": [],
   "source": [
    "def remainder(left, right):\n",
    "    left_n = left.shape[0]\n",
    "    right_n = right.shape[0]\n",
    "    total_n = left_n + right_n\n",
    "    h_l = entropy(left)\n",
    "    h_r = entropy(right)\n",
    "    rem = left_n / total_n * h_l + right_n / total_n * h_r\n",
    "\n",
    "    return rem\n"
   ]
  },
  {
   "cell_type": "code",
   "execution_count": null,
   "metadata": {},
   "outputs": [],
   "source": [
    "def gain(total, left, right):\n",
    "    return entropy(total) - remainder(left, right)"
   ]
  },
  {
   "cell_type": "code",
   "execution_count": null,
   "metadata": {},
   "outputs": [],
   "source": [
    "def find_split(dataset):\n",
    "    attrs = dataset.shape[1] - 1\n",
    "    h_max, attr_max, val_max = -1, None, None\n",
    "\n",
    "    for i in range(attrs):\n",
    "        points = np.unique(np.sort(dataset[:, i]))\n",
    "        splits = np.sum(np.vstack((points[:-1], points[1:])), axis=0) / 2\n",
    "        for val in splits:\n",
    "\n",
    "            left = dataset[dataset[:, i] <= val]\n",
    "            right = dataset[dataset[:, i] > val]\n",
    "            left_labels = left[:, -1]\n",
    "            right_labels = right[:, -1]\n",
    "\n",
    "            h = gain(dataset[:, -1], left_labels, right_labels)\n",
    "\n",
    "            if(h > h_max):\n",
    "                h_max, attr_max, val_max = h, i, val\n",
    "\n",
    "    left = dataset[dataset[:, attr_max] <= val_max]\n",
    "    right = dataset[dataset[:, attr_max] > val_max]\n",
    "    return (attr_max, val_max, left, right)\n"
   ]
  },
  {
   "cell_type": "code",
   "execution_count": null,
   "metadata": {},
   "outputs": [],
   "source": [
    "def decision_tree_learning(training_set, depth=0):\n",
    "    labels = np.unique(training_set[:, -1])\n",
    "\n",
    "    # There is only one unique label\n",
    "    if(labels.shape[0] == 1):\n",
    "        return Node(0, 0, None, None, labels[0]), depth\n",
    "\n",
    "    attr_max, val_max, left, right = find_split(training_set)\n",
    "\n",
    "    l_branch, l_depth = decision_tree_learning(left, depth + 1)\n",
    "    r_branch, r_depth = decision_tree_learning(right, depth + 1)\n",
    "\n",
    "    node = Node(attr_max, val_max, l_branch, r_branch)\n",
    "\n",
    "    return node, max(l_depth, r_depth)\n"
   ]
  },
  {
   "cell_type": "code",
   "execution_count": null,
   "metadata": {},
   "outputs": [],
   "source": [
    "dec_tree, total_depth = decision_tree_learning(clean_dataset)"
   ]
  },
  {
   "cell_type": "code",
   "execution_count": null,
   "metadata": {},
   "outputs": [],
   "source": [
    "def _draw_tree(root, depth=1):\n",
    "    if(root.left == None and root.right == None):\n",
    "        return \"|  \" * (depth - 1) + \">> \" + \"class \" + str(root.label)\n",
    "\n",
    "    return (\"|  \") * (depth - 1) + (\"*  \") + \"feature \" + str(root.attribute) + \" <= \" + str(root.value) + '\\n' + _draw_tree(root.left, depth + 1) + '\\n' + (\"|  \") * (depth - 1) + (\"*  \") + \"feature \" + str(root.attribute) + \" > \" + str(root.value) + '\\n' + _draw_tree(root.right, depth + 1)\n",
    "\n",
    "def draw_tree(tree):\n",
    "    return _draw_tree(tree)"
   ]
  },
  {
   "cell_type": "code",
   "execution_count": null,
   "metadata": {},
   "outputs": [],
   "source": [
    "print(draw_tree(dec_tree))"
   ]
  },
  {
   "cell_type": "code",
   "execution_count": null,
   "metadata": {},
   "outputs": [],
   "source": [
    "def predict_entry(root, data):\n",
    "    if(root.left == None and root.right == None):\n",
    "        return root.label\n",
    "\n",
    "    if(data[root.attribute] <= root.value):\n",
    "        return predict_entry(root.left, data)\n",
    "    else:\n",
    "        return predict_entry(root.right, data)\n",
    "\n",
    "\n",
    "def predict(tree, test_x):\n",
    "    predicted = []\n",
    "    for entry in test_x:\n",
    "        predicted.append(predict_entry(tree, entry))\n",
    "\n",
    "    return np.array(predicted)\n"
   ]
  },
  {
   "cell_type": "code",
   "execution_count": null,
   "metadata": {},
   "outputs": [],
   "source": [
    "def evaluate(test_db, trained_tree):\n",
    "    test_x = test_db[:, :-1]\n",
    "    test_y = test_db[:, -1]\n",
    "    y = predict(dec_tree, test_x)\n",
    "    acc = np.nonzero(test_y == y)[0].shape[0] / test_y.shape[0]\n",
    "    return acc\n"
   ]
  },
  {
   "cell_type": "code",
   "execution_count": null,
   "metadata": {},
   "outputs": [],
   "source": [
    "print(evaluate(noisy_dataset, dec_tree))"
   ]
  },
  {
   "cell_type": "code",
   "execution_count": null,
   "metadata": {},
   "outputs": [],
   "source": []
  }
 ],
 "metadata": {
  "interpreter": {
   "hash": "916dbcbb3f70747c44a77c7bcd40155683ae19c65e1c03b4aa3499c5328201f1"
  },
  "kernelspec": {
   "display_name": "Python 3.8.10 64-bit",
   "name": "python3"
  },
  "language_info": {
   "codemirror_mode": {
    "name": "ipython",
    "version": 3
   },
   "file_extension": ".py",
   "mimetype": "text/x-python",
   "name": "python",
   "nbconvert_exporter": "python",
   "pygments_lexer": "ipython3",
   "version": "3.8.10"
  },
  "orig_nbformat": 4
 },
 "nbformat": 4,
 "nbformat_minor": 2
}
