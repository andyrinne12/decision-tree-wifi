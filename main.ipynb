{
 "cells": [
  {
   "cell_type": "code",
   "execution_count": null,
   "metadata": {},
   "outputs": [],
   "source": [
    "import numpy as np\n",
    "import matplotlib.pyplot as plt"
   ]
  },
  {
   "cell_type": "code",
   "execution_count": null,
   "metadata": {},
   "outputs": [],
   "source": [
    "clean_dataset = np.loadtxt(\"datasets/clean_dataset.txt\")\n",
    "noisy_dataset = np.loadtxt(\"datasets/noisy_dataset.txt\")"
   ]
  },
  {
   "cell_type": "code",
   "execution_count": null,
   "metadata": {},
   "outputs": [],
   "source": [
    "class Node:\n",
    "    def __init__(self, attribute, value, left, right, label = None):\n",
    "        self.attribute = attribute\n",
    "        self.value = value\n",
    "        self.left = left\n",
    "        self.right = right\n",
    "        self.label = label\n",
    "\n",
    "    def is_leaf(self):\n",
    "        return not self.left and not self.right"
   ]
  },
  {
   "cell_type": "code",
   "execution_count": null,
   "metadata": {},
   "outputs": [],
   "source": [
    "def entropy(dataset):\n",
    "    num = dataset.shape[0]\n",
    "    labels, label_counts = np.unique(dataset, return_counts=True)\n",
    "    probs = label_counts / num\n",
    "    entropy = -1 * np.sum(probs * np.log2(probs))\n",
    "    return entropy"
   ]
  },
  {
   "cell_type": "code",
   "execution_count": null,
   "metadata": {},
   "outputs": [],
   "source": [
    "def remainder(left, right):\n",
    "    left_n = left.shape[0]\n",
    "    right_n = right.shape[0]\n",
    "    total_n = left_n + right_n\n",
    "    h_l = entropy(left)\n",
    "    h_r = entropy(right)\n",
    "    rem = left_n / total_n * h_l + right_n / total_n * h_r\n",
    "\n",
    "    return rem\n"
   ]
  },
  {
   "cell_type": "code",
   "execution_count": null,
   "metadata": {},
   "outputs": [],
   "source": [
    "def gain(total, left, right):\n",
    "    return entropy(total) - remainder(left, right)"
   ]
  },
  {
   "cell_type": "code",
   "execution_count": null,
   "metadata": {},
   "outputs": [],
   "source": [
    "def find_split(dataset):\n",
    "    attrs = dataset.shape[1] - 1\n",
    "    h_max, attr_max, val_max = -1, None, None\n",
    "\n",
    "    for i in range(attrs):\n",
    "        points = np.unique(np.sort(dataset[:, i]))\n",
    "        splits = np.sum(np.vstack((points[:-1], points[1:])), axis=0) / 2\n",
    "        for val in splits:\n",
    "\n",
    "            left = dataset[dataset[:, i] <= val]\n",
    "            right = dataset[dataset[:, i] > val]\n",
    "            left_labels = left[:, -1]\n",
    "            right_labels = right[:, -1]\n",
    "\n",
    "            h = gain(dataset[:, -1], left_labels, right_labels)\n",
    "\n",
    "            if(h > h_max):\n",
    "                h_max, attr_max, val_max = h, i, val\n",
    "\n",
    "    left = dataset[dataset[:, attr_max] <= val_max]\n",
    "    right = dataset[dataset[:, attr_max] > val_max]\n",
    "    return (attr_max, val_max, left, right)\n"
   ]
  },
  {
   "cell_type": "code",
   "execution_count": null,
   "metadata": {},
   "outputs": [],
   "source": [
    "attr_max, val_max, left, right = find_split(clean_dataset)\n",
    "#print(attr_max, val_max, left.shape, right.shape)\n",
    "#print(find_split(clean_dataset))"
   ]
  },
  {
   "cell_type": "code",
   "execution_count": null,
   "metadata": {},
   "outputs": [],
   "source": [
    "def decision_tree_learning(training_set, depth=0):\n",
    "    labels = np.unique(training_set[:, -1])\n",
    "\n",
    "    # There is only one unique label\n",
    "    if(labels.shape[0] == 1):\n",
    "        return Node(0, 0, None, None, labels[0]), depth\n",
    "\n",
    "    attr_max, val_max, left, right = find_split(training_set)\n",
    "\n",
    "    l_branch, l_depth = decision_tree_learning(left, depth + 1)\n",
    "    r_branch, r_depth = decision_tree_learning(right, depth + 1)\n",
    "\n",
    "    node = Node(attr_max, val_max, l_branch, r_branch)\n",
    "\n",
    "    return node, max(l_depth, r_depth)\n"
   ]
  },
  {
   "cell_type": "code",
   "execution_count": null,
   "metadata": {},
   "outputs": [],
   "source": [
    "dec_tree, total_depth = decision_tree_learning(clean_dataset)"
   ]
  },
  {
   "cell_type": "code",
   "execution_count": 251,
   "metadata": {},
   "outputs": [],
   "source": [
    "def _draw_tree(root, depth=1):\n",
    "    if(root.left == None and root.right == None):\n",
    "        return \"|  \" * (depth - 1) + \">> \" + \"class \" + str(root.label)\n",
    "\n",
    "    return (\"|  \") * (depth - 1) + (\"*  \") + \"feature \" + str(root.attribute) + \" <= \" + str(root.value) + '\\n' + _draw_tree(root.left, depth + 1) + '\\n' + (\"|  \") * (depth - 1) + (\"*  \") + \"feature \" + str(root.attribute) + \" > \" + str(root.value) + '\\n' + _draw_tree(root.right, depth + 1)\n"
   ]
  },
  {
   "cell_type": "code",
   "execution_count": 252,
   "metadata": {},
   "outputs": [],
   "source": [
    "def draw_tree(tree):\n",
    "    return _draw_tree(tree)"
   ]
  },
  {
   "cell_type": "code",
   "execution_count": 253,
   "metadata": {},
   "outputs": [
    {
     "name": "stdout",
     "output_type": "stream",
     "text": [
      "*  feature 0 <= -54.5\n",
      "|  *  feature 4 <= -59.5\n",
      "|  |  *  feature 3 <= -55.5\n",
      "|  |  |  *  feature 2 <= -55.5\n",
      "|  |  |  |  >> class 1.0\n",
      "|  |  |  *  feature 2 > -55.5\n",
      "|  |  |  |  *  feature 6 <= -85.5\n",
      "|  |  |  |  |  *  feature 4 <= -62.5\n",
      "|  |  |  |  |  |  *  feature 5 <= -85.5\n",
      "|  |  |  |  |  |  |  *  feature 0 <= -58.0\n",
      "|  |  |  |  |  |  |  |  >> class 4.0\n",
      "|  |  |  |  |  |  |  *  feature 0 > -58.0\n",
      "|  |  |  |  |  |  |  |  >> class 3.0\n",
      "|  |  |  |  |  |  *  feature 5 > -85.5\n",
      "|  |  |  |  |  |  |  >> class 1.0\n",
      "|  |  |  |  |  *  feature 4 > -62.5\n",
      "|  |  |  |  |  |  >> class 4.0\n",
      "|  |  |  |  *  feature 6 > -85.5\n",
      "|  |  |  |  |  >> class 1.0\n",
      "|  |  *  feature 3 > -55.5\n",
      "|  |  |  *  feature 1 <= -50.5\n",
      "|  |  |  |  >> class 3.0\n",
      "|  |  |  *  feature 1 > -50.5\n",
      "|  |  |  |  *  feature 0 <= -59.0\n",
      "|  |  |  |  |  >> class 3.0\n",
      "|  |  |  |  *  feature 0 > -59.0\n",
      "|  |  |  |  |  >> class 1.0\n",
      "|  *  feature 4 > -59.5\n",
      "|  |  *  feature 4 <= -56.5\n",
      "|  |  |  *  feature 3 <= -58.5\n",
      "|  |  |  |  >> class 4.0\n",
      "|  |  |  *  feature 3 > -58.5\n",
      "|  |  |  |  >> class 3.0\n",
      "|  |  *  feature 4 > -56.5\n",
      "|  |  |  >> class 4.0\n",
      "*  feature 0 > -54.5\n",
      "|  *  feature 0 <= -44.5\n",
      "|  |  *  feature 4 <= -70.5\n",
      "|  |  |  *  feature 3 <= -48.5\n",
      "|  |  |  |  *  feature 2 <= -58.0\n",
      "|  |  |  |  |  *  feature 0 <= -50.5\n",
      "|  |  |  |  |  |  >> class 3.0\n",
      "|  |  |  |  |  *  feature 0 > -50.5\n",
      "|  |  |  |  |  |  >> class 2.0\n",
      "|  |  |  |  *  feature 2 > -58.0\n",
      "|  |  |  |  |  >> class 3.0\n",
      "|  |  |  *  feature 3 > -48.5\n",
      "|  |  |  |  *  feature 1 <= -58.5\n",
      "|  |  |  |  |  *  feature 1 <= -59.5\n",
      "|  |  |  |  |  |  >> class 2.0\n",
      "|  |  |  |  |  *  feature 1 > -59.5\n",
      "|  |  |  |  |  |  >> class 3.0\n",
      "|  |  |  |  *  feature 1 > -58.5\n",
      "|  |  |  |  |  >> class 2.0\n",
      "|  |  *  feature 4 > -70.5\n",
      "|  |  |  *  feature 3 <= -39.5\n",
      "|  |  |  |  *  feature 4 <= -53.5\n",
      "|  |  |  |  |  *  feature 2 <= -53.5\n",
      "|  |  |  |  |  |  *  feature 5 <= -77.5\n",
      "|  |  |  |  |  |  |  *  feature 3 <= -48.5\n",
      "|  |  |  |  |  |  |  |  *  feature 6 <= -76.5\n",
      "|  |  |  |  |  |  |  |  |  >> class 3.0\n",
      "|  |  |  |  |  |  |  |  *  feature 6 > -76.5\n",
      "|  |  |  |  |  |  |  |  |  *  feature 5 <= -86.0\n",
      "|  |  |  |  |  |  |  |  |  |  >> class 2.0\n",
      "|  |  |  |  |  |  |  |  |  *  feature 5 > -86.0\n",
      "|  |  |  |  |  |  |  |  |  |  >> class 3.0\n",
      "|  |  |  |  |  |  |  *  feature 3 > -48.5\n",
      "|  |  |  |  |  |  |  |  *  feature 6 <= -77.5\n",
      "|  |  |  |  |  |  |  |  |  *  feature 4 <= -69.0\n",
      "|  |  |  |  |  |  |  |  |  |  >> class 2.0\n",
      "|  |  |  |  |  |  |  |  |  *  feature 4 > -69.0\n",
      "|  |  |  |  |  |  |  |  |  |  *  feature 1 <= -55.5\n",
      "|  |  |  |  |  |  |  |  |  |  |  *  feature 2 <= -55.5\n",
      "|  |  |  |  |  |  |  |  |  |  |  |  >> class 3.0\n",
      "|  |  |  |  |  |  |  |  |  |  |  *  feature 2 > -55.5\n",
      "|  |  |  |  |  |  |  |  |  |  |  |  *  feature 2 <= -54.5\n",
      "|  |  |  |  |  |  |  |  |  |  |  |  |  *  feature 0 <= -46.0\n",
      "|  |  |  |  |  |  |  |  |  |  |  |  |  |  >> class 2.0\n",
      "|  |  |  |  |  |  |  |  |  |  |  |  |  *  feature 0 > -46.0\n",
      "|  |  |  |  |  |  |  |  |  |  |  |  |  |  >> class 3.0\n",
      "|  |  |  |  |  |  |  |  |  |  |  |  *  feature 2 > -54.5\n",
      "|  |  |  |  |  |  |  |  |  |  |  |  |  >> class 3.0\n",
      "|  |  |  |  |  |  |  |  |  |  *  feature 1 > -55.5\n",
      "|  |  |  |  |  |  |  |  |  |  |  >> class 3.0\n",
      "|  |  |  |  |  |  |  |  *  feature 6 > -77.5\n",
      "|  |  |  |  |  |  |  |  |  *  feature 2 <= -54.5\n",
      "|  |  |  |  |  |  |  |  |  |  >> class 2.0\n",
      "|  |  |  |  |  |  |  |  |  *  feature 2 > -54.5\n",
      "|  |  |  |  |  |  |  |  |  |  *  feature 0 <= -45.5\n",
      "|  |  |  |  |  |  |  |  |  |  |  >> class 3.0\n",
      "|  |  |  |  |  |  |  |  |  |  *  feature 0 > -45.5\n",
      "|  |  |  |  |  |  |  |  |  |  |  >> class 2.0\n",
      "|  |  |  |  |  |  *  feature 5 > -77.5\n",
      "|  |  |  |  |  |  |  *  feature 4 <= -68.0\n",
      "|  |  |  |  |  |  |  |  >> class 2.0\n",
      "|  |  |  |  |  |  |  *  feature 4 > -68.0\n",
      "|  |  |  |  |  |  |  |  *  feature 6 <= -74.0\n",
      "|  |  |  |  |  |  |  |  |  *  feature 4 <= -65.0\n",
      "|  |  |  |  |  |  |  |  |  |  *  feature 0 <= -49.5\n",
      "|  |  |  |  |  |  |  |  |  |  |  >> class 3.0\n",
      "|  |  |  |  |  |  |  |  |  |  *  feature 0 > -49.5\n",
      "|  |  |  |  |  |  |  |  |  |  |  *  feature 6 <= -86.5\n",
      "|  |  |  |  |  |  |  |  |  |  |  |  >> class 3.0\n",
      "|  |  |  |  |  |  |  |  |  |  |  *  feature 6 > -86.5\n",
      "|  |  |  |  |  |  |  |  |  |  |  |  >> class 2.0\n",
      "|  |  |  |  |  |  |  |  |  *  feature 4 > -65.0\n",
      "|  |  |  |  |  |  |  |  |  |  >> class 3.0\n",
      "|  |  |  |  |  |  |  |  *  feature 6 > -74.0\n",
      "|  |  |  |  |  |  |  |  |  >> class 2.0\n",
      "|  |  |  |  |  *  feature 2 > -53.5\n",
      "|  |  |  |  |  |  *  feature 6 <= -72.0\n",
      "|  |  |  |  |  |  |  >> class 3.0\n",
      "|  |  |  |  |  |  *  feature 6 > -72.0\n",
      "|  |  |  |  |  |  |  >> class 2.0\n",
      "|  |  |  |  *  feature 4 > -53.5\n",
      "|  |  |  |  |  >> class 4.0\n",
      "|  |  |  *  feature 3 > -39.5\n",
      "|  |  |  |  >> class 2.0\n",
      "|  *  feature 0 > -44.5\n",
      "|  |  *  feature 3 <= -47.5\n",
      "|  |  |  *  feature 0 <= -42.5\n",
      "|  |  |  |  >> class 3.0\n",
      "|  |  |  *  feature 0 > -42.5\n",
      "|  |  |  |  *  feature 2 <= -48.5\n",
      "|  |  |  |  |  >> class 2.0\n",
      "|  |  |  |  *  feature 2 > -48.5\n",
      "|  |  |  |  |  >> class 3.0\n",
      "|  |  *  feature 3 > -47.5\n",
      "|  |  |  >> class 2.0\n"
     ]
    }
   ],
   "source": [
    "print(draw_tree(dec_tree))"
   ]
  },
  {
   "cell_type": "code",
   "execution_count": null,
   "metadata": {},
   "outputs": [],
   "source": []
  }
 ],
 "metadata": {
  "interpreter": {
   "hash": "916dbcbb3f70747c44a77c7bcd40155683ae19c65e1c03b4aa3499c5328201f1"
  },
  "kernelspec": {
   "display_name": "Python 3.8.10 64-bit",
   "name": "python3"
  },
  "language_info": {
   "codemirror_mode": {
    "name": "ipython",
    "version": 3
   },
   "file_extension": ".py",
   "mimetype": "text/x-python",
   "name": "python",
   "nbconvert_exporter": "python",
   "pygments_lexer": "ipython3",
   "version": "3.8.10"
  },
  "orig_nbformat": 4
 },
 "nbformat": 4,
 "nbformat_minor": 2
}
